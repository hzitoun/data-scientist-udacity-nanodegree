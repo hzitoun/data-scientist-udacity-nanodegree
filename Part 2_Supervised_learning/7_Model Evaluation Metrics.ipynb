{
 "cells": [
  {
   "cell_type": "code",
   "execution_count": 2,
   "metadata": {},
   "outputs": [],
   "source": [
    "%matplotlib inline"
   ]
  },
  {
   "cell_type": "markdown",
   "metadata": {},
   "source": [
    "# Model Evaluation Metrics For Classification\n",
    "\n",
    "Evaluate, Validate & Improve Machine Learning Models based on metrics.\n",
    "\n",
    "Tweaking algorthims to work best for us!"
   ]
  },
  {
   "cell_type": "markdown",
   "metadata": {},
   "source": [
    "## Testing model "
   ]
  },
  {
   "cell_type": "code",
   "execution_count": 5,
   "metadata": {},
   "outputs": [],
   "source": [
    "# Split input data into random train and test subsets\n",
    "from sklearn.model_selection import train_test_split "
   ]
  },
  {
   "cell_type": "markdown",
   "metadata": {},
   "source": [
    "## Accuracy\n",
    "Measure how good the model is \n",
    "$$\n",
    "accraucy = \\frac{correctly \\ classified \\ examples}{all \\ examples} = \\frac{TP + TN}{TP + TN + FP + FN} \n",
    "$$"
   ]
  },
  {
   "cell_type": "code",
   "execution_count": 9,
   "metadata": {},
   "outputs": [],
   "source": [
    "# Accuracy classification score\n",
    "from sklearn.metrics import accuracy_score"
   ]
  },
  {
   "cell_type": "markdown",
   "metadata": {},
   "source": [
    "## False negative, false positive & Confusion Matrix\n",
    "\n",
    "Sometimes in the literature, you'll see False Positives and False Negatives as Type 1 and Type 2 errors. Here is the correspondence:\n",
    "\n",
    "- **Type 1 Error** (Error of the first kind, or False Positive): for a medical example, this is when we misdiagnose a healthy patient as sick.\n",
    "- **Type 2 Error** (Error of the second kind, or False Negative): for a medical example, this is when we misdiagnose a sick patient as healthy."
   ]
  },
  {
   "cell_type": "code",
   "execution_count": 11,
   "metadata": {},
   "outputs": [],
   "source": [
    "# Compute confusion matrix to evaluate the accuracy of a classification\n",
    "# TP FN\n",
    "# FP TN\n",
    "from sklearn.metrics import confusion_matrix"
   ]
  },
  {
   "cell_type": "markdown",
   "metadata": {},
   "source": [
    "## Precision, recall\n",
    "\n",
    "Depends on the case, sometimes we need high precision & sometimes we need a high recall\n",
    "\n",
    "- Precision focuses on the **predicted** \"positive\" values in your dataset. **High Precision** means **NOT OK with FP** & **OK with FN**\n",
    "$$\n",
    "Precision = \\frac{TP}{TP + FP} =\\frac{|\\{\\text{relevant documents}\\}\\cap\\{\\text{retrieved documents}\\}|}{|\\{\\text{retrieved documents}\\}|}\n",
    "$$\n",
    "***\n",
    "- Recall focuses on the **actual** \"positive\" values in your dataset. **High Recall** means **OK with FP** & **NOT OK with FN**\n",
    "$$\n",
    "Recall = \\frac{TP}{TP + FN} = \\frac{|\\{\\text{relevant documents}\\}\\cap\\{\\text{retrieved documents}\\}|}{|\\{\\text{relevant documents}\\}|}\n",
    "$$\n"
   ]
  },
  {
   "cell_type": "markdown",
   "metadata": {},
   "source": [
    "## F1 Score & F-beta Score\n",
    "\n",
    "- **F1 Score** The reason why F1 score is not the arithmetic average of P & R is that we need the socre to be very low when either of P or R is very low even if the other one is high (we punish the model for the very low value). Hence F1 Score is always closer the smallest between P & R. If one of them is small it rises a flag!\n",
    "***\n",
    "$$\n",
    "F1 Score = Harmonic\\_mean(P, R) = \\frac{2}{\\frac{1}{P} + \\frac{1}{R}} = \\frac{2 * (P  * R)}{P + R} < arithmetic\\_mean(P, R) = \\frac{(P + R)}{2}\n",
    "$$\n",
    "***\n",
    "- **F-beta Score** It is not an exacte science! finding a good value for beta requires a lot of intuition of your data & a lot experimentation : \n",
    "\n",
    "    - If **β = 0** then we get **precision**.\n",
    "    - If **β = ∞** then we get **recall**.\n",
    "    - For **other values of β**, if they are close to 0, we get something close to precision, if they are large numbers, then we get something close to recall, \n",
    "    - And if β = 1 then we get the **harmonic mean** (F1 score) of precision and recall.\n",
    "***\n",
    "$$\n",
    "F_\\beta = (1 + \\beta^2) \\cdot \\frac{\\mathrm{precision} \\cdot \\mathrm{recall}}{(\\beta^2 \\cdot \\mathrm{precision}) + \\mathrm{recall}}\n",
    "$$\n",
    "***\n"
   ]
  },
  {
   "cell_type": "code",
   "execution_count": 14,
   "metadata": {},
   "outputs": [],
   "source": [
    "# The F-beta score is the weighted harmonic mean of precision and recall,\n",
    "# reaching its optimal value at 1 and its worst value at 0.\n",
    "from sklearn.metrics import fbeta_score"
   ]
  },
  {
   "cell_type": "markdown",
   "metadata": {},
   "source": [
    "## ROC Curve\n",
    "\n",
    "Receiver Operating Caractheristic Curve, a performance measurement for classification problem at various thresholds settings. **The closer your area under the ROC curve is to 1, the better your model is.**\n",
    "\n",
    "\n",
    "- **True Positive Rate**  aka sensitivity, recall or probability of detection\n",
    "***\n",
    "$$\n",
    "        TPR = \\frac{TP}{TP + FN}\n",
    "$$\n",
    "- **Specitity**\n",
    "***\n",
    "$$\n",
    "         specitity = \\frac{TN}{TN + FP}\n",
    "$$\n",
    "- **False Positive Rate** aka the fall-out or probability of false alarm\n",
    "***\n",
    "$$\n",
    "         FPR = \\frac{FP}{TN + FP} = 1 - specitity\n",
    "$$\n",
    "\n",
    "\n",
    "- Sensitivity⬆️, Specificity⬇️ and Sensitivity⬇️, Specificity⬆️\n",
    "\n",
    "\n",
    "\n",
    "- TPR⬆️, FPR⬆️ and TPR⬇️, FPR⬇️"
   ]
  },
  {
   "cell_type": "code",
   "execution_count": 3,
   "metadata": {},
   "outputs": [
    {
     "data": {
      "image/png": "[encoded data removed]",
      "text/plain": [
       "<Figure size 432x288 with 1 Axes>"
      ]
     },
     "metadata": {
      "needs_background": "light"
     },
     "output_type": "display_data"
    }
   ],
   "source": [
    "import matplotlib.pyplot as plt\n",
    "\n",
    "from sklearn import svm, datasets\n",
    "from sklearn.metrics import roc_curve, auc\n",
    "from sklearn.model_selection import train_test_split\n",
    "from sklearn.preprocessing import label_binarize\n",
    "from sklearn.multiclass import OneVsRestClassifier\n",
    "\n",
    "random_state = 0\n",
    "\n",
    "iris = datasets.load_iris()\n",
    "X = iris.data\n",
    "y = iris.target\n",
    "\n",
    "y = label_binarize(y, classes=[0, 1, 2])\n",
    "n_classes = y.shape[1]\n",
    "\n",
    "X_train, X_test, y_train, y_test = train_test_split(X, y, test_size=.3, random_state=0)\n",
    "\n",
    "classifier = OneVsRestClassifier(svm.SVC(kernel='linear', probability=True, random_state=random_state))\n",
    "y_score = classifier.fit(X_train, y_train).decision_function(X_test)\n",
    "\n",
    "# Compute micro-average ROC curve and ROC area since we have multi class model\n",
    "fpr, tpr, thresholds = roc_curve(y_test.ravel(), y_score.ravel())\n",
    "roc_auc = auc(fpr, tpr)\n",
    "\n",
    "plt.figure()\n",
    "lw = 2\n",
    "plt.plot(fpr, tpr, color='darkorange', lw=lw, label='ROC curve (area = %0.2f)' % roc_auc)\n",
    "plt.xlim([0.0, 1.0])\n",
    "plt.ylim([0.0, 1.05])\n",
    "plt.xlabel('False Positive Rate')\n",
    "plt.ylabel('True Positive Rate')\n",
    "plt.title('Receiver operating characteristic example')\n",
    "plt.legend(loc=\"lower right\")\n",
    "plt.show()"
   ]
  },
  {
   "cell_type": "markdown",
   "metadata": {},
   "source": [
    "# Model Evaluation Metrics For Regression\n",
    "\n"
   ]
  },
  {
   "cell_type": "markdown",
   "metadata": {},
   "source": [
    "## Mean Absolute Error\n",
    "\n",
    "This is a useful metric to optimize on when the value you are trying to predict follows a skewed distribution. Optimizing on an absolute value is particularly helpful in these cases because **outliers will not influence models attempting to optimize on this metric** as much as if you use the mean squared error. The optimal value for this technique is the median value. When you optimize for the R2 value of the mean squared error, the optimal value is actually the mean."
   ]
  },
  {
   "cell_type": "code",
   "execution_count": 6,
   "metadata": {},
   "outputs": [],
   "source": [
    "# Mean absolute error regression loss\n",
    "from sklearn.metrics import mean_absolute_error"
   ]
  },
  {
   "cell_type": "markdown",
   "metadata": {},
   "source": [
    "## Mean Squared Error\n",
    "\n",
    "The mean squared error is by far the most used metric for optimization in regression problems. Similar to with MAE, you want to find a model that minimizes this value. This metric can be greatly impacted by skewed distributions and outliers. When a model is considered optimal via MAE, but not for MSE, it is useful to keep this in mind. In many cases, it is easier to actually optimize on MSE, as the a quadratic term is differentiable. However, an absolute value is not differentiable. This factor makes **this metric better for gradient based optimization algorithms.**"
   ]
  },
  {
   "cell_type": "code",
   "execution_count": 11,
   "metadata": {},
   "outputs": [],
   "source": [
    "# Mean squared error regression loss\n",
    "from sklearn.metrics import mean_squared_error"
   ]
  },
  {
   "cell_type": "markdown",
   "metadata": {},
   "source": [
    "## R2 Score\n",
    "\n",
    "R2 value is another common metric when looking at regression values. Optimizing a model to have the lowest MSE will also optimize a model to have the the highest R2 value. This is a convenient feature of this metric. The R2 value is frequently interpreted as the 'amount of variability' captured by a model. Therefore, you can think of MSE, as the average amount you miss by across all the points, and the R2 value as the amount of the variability in the points that you capture with a model.\n",
    "\n",
    "The definition of R-squared is fairly straight-forward; it is the percentage of the response variable variation that is explained by a linear model. Or:\n",
    "\n",
    "- R-squared = Explained variation / Total variation\n",
    "\n",
    "- R-squared is always between 0 and 100%:\n",
    "\n",
    "    - 0% indicates that the model explains none of the variability of the response data around its mean.\n",
    "    - 100% indicates that the model explains all the variability of the response data around its mean."
   ]
  },
  {
   "cell_type": "code",
   "execution_count": 15,
   "metadata": {},
   "outputs": [],
   "source": [
    "# R^2 (coefficient of determination) regression score function. Explained variance score: 1 is perfect prediction\n",
    "from sklearn.metrics import r2_score"
   ]
  }
 ],
 "metadata": {
  "kernelspec": {
   "display_name": "Python 3",
   "language": "python",
   "name": "python3"
  },
  "language_info": {
   "codemirror_mode": {
    "name": "ipython",
    "version": 3
   },
   "file_extension": ".py",
   "mimetype": "text/x-python",
   "name": "python",
   "nbconvert_exporter": "python",
   "pygments_lexer": "ipython3",
   "version": "3.7.1"
  }
 },
 "nbformat": 4,
 "nbformat_minor": 2
}
